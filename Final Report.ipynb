{
 "cells": [
  {
   "cell_type": "markdown",
   "metadata": {},
   "source": [
    "**BEST NEIGHBOURHOOD TO RAISE A D1 BASKETBALL PLAYER**"
   ]
  },
  {
   "cell_type": "markdown",
   "metadata": {},
   "source": [
    "**Intoduction**"
   ]
  },
  {
   "cell_type": "markdown",
   "metadata": {},
   "source": [
    "This project centers on the essential elements necessary for a basketball player to reach the D1 level. The three main categories are proper sleep, good nutrition, and access to courts and facilities. Adequate sleep is required for a good performance and physical recovery, so lack of noise is necessary for this. Next, Good Nutrition allows an athlete have enough energy and maintain a good well being. Farmers market provide a good and healthier source of food. Lastly, Facilities is needed for an athlete to practice and perfect their skills."
   ]
  }
 ],
 "metadata": {
  "kernelspec": {
   "display_name": "Python 3",
   "language": "python",
   "name": "python3"
  },
  "language_info": {
   "codemirror_mode": {
    "name": "ipython",
    "version": 3
   },
   "file_extension": ".py",
   "mimetype": "text/x-python",
   "name": "python",
   "nbconvert_exporter": "python",
   "pygments_lexer": "ipython3",
   "version": "3.8.3"
  }
 },
 "nbformat": 4,
 "nbformat_minor": 4
}
