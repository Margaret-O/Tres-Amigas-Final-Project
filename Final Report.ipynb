{
 "cells": [
  {
   "cell_type": "markdown",
   "metadata": {},
   "source": [
    "## BEST NEIGHBORHOOD TO RAISE A D1 BASKETBALL PLAYER"
   ]
  },
  {
   "cell_type": "markdown",
   "metadata": {},
   "source": [
    "### **Introduction**"
   ]
  },
  {
   "cell_type": "markdown",
   "metadata": {},
   "source": [
    "Tired of ballin' over these CS projects and would rather be ballin' on a court? Pittsburgh is the place to be, considering Pitt is a D1 basketball school. In trying to be original and entertaining, we decided to pick a D1 basketball player over other sports, putting us in the mood to join the Zoo and cheer on Pitt in these coming weeks. But what would give someone an advantage in becoming one of the greats here in Pittsburgh? Those of us who were athletes growing up all know the four things ingrained in our brains in order to succeed: eat, train, sleep, repeat. What neighborhood in Pittsburgh has all of the resources to fulfill these requirements needed to become a D1 basketball player?!\n"
   ]
  },
  {
   "cell_type": "markdown",
   "metadata": {},
   "source": [
<<<<<<< HEAD
    "![basketball](https://media.giphy.com/media/l0OWiMGpoC6apZFXG/giphy.gif)"
=======
    "![basketball](https://media.giphy.com/media/v1.Y2lkPTc5MGI3NjExYTUzN2g3dW9haTdvd2h2a3JqcW41eXV2NDZoaWtvNmRubXNoN3J4bCZlcD12MV9pbnRlcm5hbF9naWZfYnlfaWQmY3Q9Zw/l0OWiMGpoC6apZFXG/giphy.gif)"
>>>>>>> 0f9f3524aaa81e4e7263347aada21e3fb8394d3b
   ]
  },
  {
   "cell_type": "markdown",
   "metadata": {},
   "source": [
    "### **Metric**"
   ]
  },
  {
   "cell_type": "markdown",
   "metadata": {},
   "source": [
    "This project centers on the essential elements necessary for a basketball player to reach the D1 level. The three main categories are the following:\n",
    "- **Proper Sleep** - Adequate sleep is required for good performance and physical recovery, so a lack of noise is necessary for this. This dataset contains the amount of noise complaints in specific neighborhoods in Pittsburgh, which can be used to determine the best neighborhood to get well-rested.\n",
    "    - https://data.wprdc.org/dataset/311-data/resource/76fda9d0-69be-4dd5-8108-0de7907fc5a4\n",
    "    \n",
    "    \n",
    "- **Good Nutrition** - Good Nutrition allows an athlete to have enough energy and maintain a good well-being. Farmer's markets provide a good and healthier source of food. Farmer's markets provide a good and healthier source of food. This dataset includes the amount of farmers markets in the neighborhoods of Pittsburgh, portraying the best neighborhood in Pittsburgh to get fresh nutritious food.\n",
    "    - https://data.wprdc.org/dataset/allegheny-county-farmers-markets-locations/resource/0d99978a-ccf6-4315-af5a-a95acec87a9f\n",
    "    \n",
    "    \n",
    "- **Access to Courts and Facilities** - Facilities are needed for an athlete to practice and perfect their skills. This dataset includes the number of basketball courts in the neighborhoods of Pittsburgh, allowing us to determine the best neighborhood pertaining to access to fitness facilities.\n",
    "    - https://data.wprdc.org/dataset/city-of-pittsburgh-courts/resource/a5b71bfa-840c-4c86-8f43-07a9ae854227\n",
    "\n",
    "\n",
    "We compared these submetrics across all the neighborhoods in Pittsburgh to determine which one was the best for a basketball player to succeed based on these factors.\n"
   ]
  },
  {
   "cell_type": "markdown",
   "metadata": {},
   "source": [
    "![basketball](https://media.giphy.com/media/S8ZByJlcdOJERTDfaA/giphy.gif)"
   ]
  },
  {
   "cell_type": "markdown",
   "metadata": {},
   "source": [
    "### **Determining the Best Neighborhood**"
   ]
  },
  {
   "cell_type": "markdown",
   "metadata": {},
   "source": [
    "**Metric # 1: The number of noise complaints per neigborhood**"
   ]
  },
  {
   "cell_type": "markdown",
   "metadata": {},
   "source": [
    "**Metric # 2 : The number of farmers markets per neighborhood**"
   ]
  },
  {
   "cell_type": "markdown",
   "metadata": {},
   "source": [
    "**Metric # 3: The number of courts per neighborhood**"
   ]
  },
  {
   "cell_type": "markdown",
   "metadata": {},
   "source": [
    "## **Conclusion**"
   ]
  },
  {
   "cell_type": "markdown",
   "metadata": {},
   "source": [
    "**Paige:** Personally, my favorite neighborhood is East Liberty. Although the data shows that ______ is the best neighborhood to raise a D1 Basketball Player                                                              "
   ]
  },
  {
   "cell_type": "markdown",
   "metadata": {},
   "source": [
    "**Emma:** My favorite neighborhood is the Strip District. Even though, a neighborhood with lots of sports facilities could be fun and considered the best, for me I enjoy shopping and going to restraunts which the Strip District is full of. Even though the Strip District is a busy place with lots of things to do, I was shocked they had a low amount of basketball courts. "
   ]
  },
  {
   "cell_type": "markdown",
   "metadata": {},
   "source": [
    "**Margaret:**"
   ]
  },
  {
   "cell_type": "markdown",
   "metadata": {},
   "source": [
    "According to this metric, the best neighborhood is **East Liberty** due to our data"
   ]
  },
  {
   "cell_type": "code",
   "execution_count": null,
   "metadata": {},
   "outputs": [],
   "source": []
  }
 ],
 "metadata": {
  "kernelspec": {
   "display_name": "Python 3",
   "language": "python",
   "name": "python3"
  },
  "language_info": {
   "codemirror_mode": {
    "name": "ipython",
    "version": 3
   },
   "file_extension": ".py",
   "mimetype": "text/x-python",
   "name": "python",
   "nbconvert_exporter": "python",
   "pygments_lexer": "ipython3",
   "version": "3.8.3"
  }
 },
 "nbformat": 4,
 "nbformat_minor": 4
}
