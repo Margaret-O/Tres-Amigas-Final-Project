{
 "cells": [
  {
   "cell_type": "markdown",
   "metadata": {},
   "source": [
    "Our Project: Finding out what neighborhood in Pittsburgh is best to raise a D1 Basketball Player"
   ]
  },
  {
   "cell_type": "code",
   "execution_count": 1,
   "metadata": {},
   "outputs": [],
   "source": [
    "import pandas as pd\n",
    "\n",
    "%matplotlib inline"
   ]
  },
  {
   "cell_type": "code",
   "execution_count": 10,
   "metadata": {},
   "outputs": [
    {
     "name": "stdout",
     "output_type": "stream",
     "text": [
      "     _id  market_id  market_type                          market_name  \\\n",
      "0   1486         21   Farm Stand                Beccari's Farm Market   \n",
      "1   1487         51  Farm Market     Carrick Citiparks Farmers Market   \n",
      "2   1488         90  Farm Market          East Liberty Farmers Market   \n",
      "3   1489         92   Farm Stand  Eichner's Farm Market & Greenhouses   \n",
      "4   1490        207  Farm Market                       Monroeville FM   \n",
      "..   ...        ...          ...                                  ...   \n",
      "66  1552        296  Farm Market             Southside Farmers Market   \n",
      "67  1553        303   Farm Stand                     Sturges Orchards   \n",
      "68  1554        317   Farm Stand                       Triple B Farms   \n",
      "69  1555        406   Farm Stand                       Janoski's Farm   \n",
      "70  1556        425  Farm Market                  Moon Farmers Market   \n",
      "\n",
      "                   address1           city state  zip_code   latitude  \\\n",
      "0      5095 Thomas Run Road        Oakdale    PA     15071  40.375388   \n",
      "1     1529 Brownsville Road     Pittsburgh    PA     15210  40.391341   \n",
      "2   N Euclid Ave & Broad St     Pittsburgh    PA     15026  40.470769   \n",
      "3          285 Richard Road        Wexford    PA     15090  40.608589   \n",
      "4         2399 Tillbrook Rd    Monroeville    PA     15146  40.418362   \n",
      "..                      ...            ...   ...       ...        ...   \n",
      "66  18th and Carson Streets     Pittsburgh    PA     15203  40.428753   \n",
      "67            1726 Penn Ave     Pittsburgh    PA     15222  40.449865   \n",
      "68           823 Berry Lane    Monongahela    PA     15063  40.227675   \n",
      "69            1714 Route 30        Clinton    PA     15026  40.630862   \n",
      "70     1629 Beaver Grade Rd  Moon Township    PA     15108  40.499282   \n",
      "\n",
      "    longitude         phone  phone_ext     county  \n",
      "0  -80.135377  4.122219e+09        NaN  Allegheny  \n",
      "1  -79.986603  4.124227e+09        NaN  Allegheny  \n",
      "2  -79.922862           NaN        NaN  Allegheny  \n",
      "3  -80.061099  7.249352e+09        NaN  Allegheny  \n",
      "4  -79.763612  7.245389e+09        NaN  Allegheny  \n",
      "..        ...           ...        ...        ...  \n",
      "66 -79.980545           NaN        NaN  Allegheny  \n",
      "67 -79.985696  7.247529e+09        NaN  Allegheny  \n",
      "68 -79.946589  7.242584e+09        NaN  Allegheny  \n",
      "69 -79.826371  7.248993e+09        NaN  Allegheny  \n",
      "70 -80.201288  4.122622e+09        NaN  Allegheny  \n",
      "\n",
      "[71 rows x 13 columns]\n"
     ]
    }
   ],
   "source": [
    "data = pd.read_csv('farmersMarket.tsv', sep= '\\t' )\n",
    "print(data)"
   ]
  },
  {
   "cell_type": "code",
   "execution_count": 12,
   "metadata": {},
   "outputs": [
    {
     "name": "stdout",
     "output_type": "stream",
     "text": [
      "0     40.375388\n",
      "1     40.391341\n",
      "2     40.470769\n",
      "3     40.608589\n",
      "4     40.418362\n",
      "        ...    \n",
      "66    40.428753\n",
      "67    40.449865\n",
      "68    40.227675\n",
      "69    40.630862\n",
      "70    40.499282\n",
      "Name: latitude, Length: 71, dtype: float64\n",
      "0    40.375388\n",
      "1    40.391341\n",
      "2    40.470769\n",
      "3    40.608589\n",
      "4    40.418362\n",
      "Name: latitude, dtype: float64\n"
     ]
    }
   ],
   "source": [
    "print(data[\"latitude\"])\n",
    "print(data[\"latitude\"].head())"
   ]
  },
  {
   "cell_type": "code",
   "execution_count": null,
   "metadata": {},
   "outputs": [],
   "source": [
    "print(data[\"longitude\"])\n",
    "print(data[\"longitude\"].head())"
   ]
  }
 ],
 "metadata": {
  "kernelspec": {
   "display_name": "Python 3",
   "language": "python",
   "name": "python3"
  },
  "language_info": {
   "codemirror_mode": {
    "name": "ipython",
    "version": 3
   },
   "file_extension": ".py",
   "mimetype": "text/x-python",
   "name": "python",
   "nbconvert_exporter": "python",
   "pygments_lexer": "ipython3",
   "version": "3.8.3"
  }
 },
 "nbformat": 4,
 "nbformat_minor": 4
}
